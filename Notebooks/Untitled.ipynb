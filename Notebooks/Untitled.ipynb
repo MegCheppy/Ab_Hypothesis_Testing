{
 "cells": [
  {
   "cell_type": "markdown",
   "id": "d4041ce7",
   "metadata": {},
   "source": [
    "# Classical AB Testing"
   ]
  },
  {
   "cell_type": "code",
   "execution_count": 1,
   "id": "d81dc291",
   "metadata": {},
   "outputs": [],
   "source": [
    "#Importing Libraries\n",
    "import sys\n",
    "import os\n",
    "import dvc.api\n",
    "import numpy as np\n",
    "import scipy.stats as stats \n",
    "import pandas as pd\n",
    "import seaborn as sns\n",
    "import matplotlib.pyplot as plt"
   ]
  },
  {
   "cell_type": "code",
   "execution_count": 8,
   "id": "7d10361d",
   "metadata": {},
   "outputs": [
    {
     "ename": "ModuleNotFoundError",
     "evalue": "No module named 'Graphs'",
     "output_type": "error",
     "traceback": [
      "\u001b[1;31m---------------------------------------------------------------------------\u001b[0m",
      "\u001b[1;31mModuleNotFoundError\u001b[0m                       Traceback (most recent call last)",
      "\u001b[1;32m<ipython-input-8-8a0d10f42202>\u001b[0m in \u001b[0;36m<module>\u001b[1;34m\u001b[0m\n\u001b[1;32m----> 1\u001b[1;33m \u001b[1;32mfrom\u001b[0m \u001b[0mGraphs\u001b[0m \u001b[1;32mimport\u001b[0m \u001b[0mdraw\u001b[0m\u001b[1;33m\u001b[0m\u001b[1;33m\u001b[0m\u001b[0m\n\u001b[0m",
      "\u001b[1;31mModuleNotFoundError\u001b[0m: No module named 'Graphs'"
     ]
    }
   ],
   "source": [
    "# from Graphs import draw"
   ]
  },
  {
   "cell_type": "code",
   "execution_count": null,
   "id": "baf35ba6",
   "metadata": {},
   "outputs": [],
   "source": [
    "Defining"
   ]
  }
 ],
 "metadata": {
  "kernelspec": {
   "display_name": "Python 3",
   "language": "python",
   "name": "python3"
  },
  "language_info": {
   "codemirror_mode": {
    "name": "ipython",
    "version": 3
   },
   "file_extension": ".py",
   "mimetype": "text/x-python",
   "name": "python",
   "nbconvert_exporter": "python",
   "pygments_lexer": "ipython3",
   "version": "3.8.8"
  }
 },
 "nbformat": 4,
 "nbformat_minor": 5
}
